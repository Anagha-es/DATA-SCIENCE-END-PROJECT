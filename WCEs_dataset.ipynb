{
 "cells": [
  {
   "cell_type": "code",
   "execution_count": 18,
   "id": "f3da1e48-9ef4-4400-8552-b786aa1aca24",
   "metadata": {},
   "outputs": [],
   "source": [
    "import gdown\n",
    "import zipfile\n",
    "import pandas as pd\n",
    "import os"
   ]
  },
  {
   "cell_type": "code",
   "execution_count": 11,
   "id": "24c0f9de-4a69-4e7e-9e1a-c4a9c3705a1e",
   "metadata": {},
   "outputs": [],
   "source": [
    "# Google Drive file ID from the URL\n",
    "file_id = \"1q9uV_XHKvY3i83o5pOHiaRt6gIdIOVGY\"  # Extract the file ID from your shared link\n",
    "download_url = f\"https://drive.google.com/uc?export=download&id={file_id}\""
   ]
  },
  {
   "cell_type": "code",
   "execution_count": 12,
   "id": "ab36a2d9-df30-462b-ae3d-f6c16581c75a",
   "metadata": {},
   "outputs": [
    {
     "name": "stderr",
     "output_type": "stream",
     "text": [
      "Downloading...\n",
      "From (original): https://drive.google.com/uc?export=download&id=1q9uV_XHKvY3i83o5pOHiaRt6gIdIOVGY\n",
      "From (redirected): https://drive.google.com/uc?export=download&id=1q9uV_XHKvY3i83o5pOHiaRt6gIdIOVGY&confirm=t&uuid=4dff3edb-d7a4-403c-9991-569c68473f78\n",
      "To: C:\\Users\\anagh\\waves_energy_converter.zip\n",
      "100%|█████████████████████████████████████████████████████████████████████████████| 58.6M/58.6M [00:11<00:00, 5.08MB/s]\n"
     ]
    },
    {
     "data": {
      "text/plain": [
       "'waves_energy_converter.zip'"
      ]
     },
     "execution_count": 12,
     "metadata": {},
     "output_type": "execute_result"
    }
   ],
   "source": [
    "# Download the file\n",
    "gdown.download(download_url, \"waves_energy_converter.zip\", quiet=False)"
   ]
  },
  {
   "cell_type": "code",
   "execution_count": 13,
   "id": "ce34123c-8c19-4a4d-b0af-e33b3886916e",
   "metadata": {},
   "outputs": [],
   "source": [
    "# Extract the ZIP file\n",
    "with zipfile.ZipFile(\"waves_energy_converter.zip\", 'r') as zip_ref:\n",
    "    zip_ref.extractall(\"extracted_data\")  # Extract to folder 'extracted_data'"
   ]
  },
  {
   "cell_type": "code",
   "execution_count": 14,
   "id": "01bb55b7-c470-410a-874d-5a8db15afef7",
   "metadata": {},
   "outputs": [
    {
     "name": "stdout",
     "output_type": "stream",
     "text": [
      "Extracted files: ['WECs_DataSet/', 'WECs_DataSet/Adelaide_Data.csv', 'WECs_DataSet/Perth_Data.csv', 'WECs_DataSet/Sydney_Data.csv', 'WECs_DataSet/Tasmania_Data.csv']\n"
     ]
    }
   ],
   "source": [
    "# List the extracted files to ensure we know the dataset file name\n",
    "extracted_files = zip_ref.namelist()\n",
    "print(\"Extracted files:\", extracted_files)"
   ]
  },
  {
   "cell_type": "code",
   "execution_count": 19,
   "id": "82e4696c-782e-48a3-9df3-ffaec71b7e50",
   "metadata": {},
   "outputs": [],
   "source": [
    "# Check if there is a folder or file inside\n",
    "csv_file = None\n",
    "for file in extracted_files:\n",
    "    file_path = os.path.join(\"extracted_data\", file)\n",
    "    if os.path.isdir(file_path):\n",
    "        # If it's a folder, check for CSV inside the folder\n",
    "        folder_files = os.listdir(file_path)\n",
    "        for folder_file in folder_files:\n",
    "            if folder_file.endswith('.csv'):\n",
    "                csv_file = os.path.join(file_path, folder_file)\n",
    "                break\n",
    "    elif file.endswith('.csv'):\n",
    "        csv_file = file_path"
   ]
  },
  {
   "cell_type": "code",
   "execution_count": 20,
   "id": "e1fee3a7-994e-4e24-bac9-875a5b5db7fa",
   "metadata": {},
   "outputs": [
    {
     "name": "stdout",
     "output_type": "stream",
     "text": [
      "Dataset loaded successfully:\n",
      "   546.1931  194.5337   160.084  435.5412  220.8238  449.5166  396.1027  \\\n",
      "0  281.0669  390.3761  561.0742  295.9217  565.5344  236.3035  393.0648   \n",
      "1  566.0000  566.0000  346.5334  202.2120  389.6777  277.7876  421.9610   \n",
      "2    2.1045  352.3969  285.2965  566.0000  532.4306  176.8103  566.0000   \n",
      "3  168.5854  550.6155    0.0000  566.0000  450.8427    0.0000  566.0000   \n",
      "4  278.5785  365.0291   69.2200  216.9947  566.0000  301.4299  151.3832   \n",
      "\n",
      "   231.7794   69.3599  474.1572  ...  216324.3888  242794.9467  234589.0464  \\\n",
      "0  340.0667  213.7463  457.8913  ...  228315.9892  196579.4315  265924.2946   \n",
      "1  260.3339  464.1620  566.0000  ...  216919.6851  210539.3646  234470.2783   \n",
      "2    0.0000  234.7225  485.8672  ...  231355.4783  267915.4110  239599.8014   \n",
      "3  566.0000  458.9008  227.8836  ...  212278.2632  199341.9985  230549.7763   \n",
      "4  566.0000  384.4588  322.3628  ...  268466.9163  265857.5868  242668.5253   \n",
      "\n",
      "   241446.2196  266320.5629  188114.6855  170653.5874  195915.6535  \\\n",
      "0  236228.4838  229197.3604  212649.9615  253153.4761  265363.3600   \n",
      "1  245953.6945  200980.6210  203164.4624  262784.1109  269371.6293   \n",
      "2  239349.6550  239027.6745  194421.2484  200775.3338  265827.1867   \n",
      "3  210669.8570  271101.8480  199967.8783  203943.1047  265087.0171   \n",
      "4  267390.9069  226106.6051  207986.8063  244762.5423  207071.1001   \n",
      "\n",
      "   180922.3979  3648666.894  \n",
      "0  251322.8751  3810742.386  \n",
      "1  265446.7199  3745925.666  \n",
      "2  271780.8771  3781329.415  \n",
      "3  256492.7005  3667609.449  \n",
      "4  264608.5750  3751960.252  \n",
      "\n",
      "[5 rows x 49 columns]\n"
     ]
    }
   ],
   "source": [
    "# If a CSV file was found, load it\n",
    "if csv_file:\n",
    "    dataset = pd.read_csv(csv_file)\n",
    "    print(\"Dataset loaded successfully:\")\n",
    "    print(dataset.head())\n",
    "else:\n",
    "    print(\"No CSV file found in the extracted files.\")"
   ]
  },
  {
   "cell_type": "code",
   "execution_count": 22,
   "id": "de68f39b-5df7-43fd-9eec-448d04f1a6df",
   "metadata": {},
   "outputs": [
    {
     "name": "stdout",
     "output_type": "stream",
     "text": [
      "Dataset Shape: (71999, 49)\n"
     ]
    }
   ],
   "source": [
    "print(\"Dataset Shape:\", dataset.shape)\n"
   ]
  },
  {
   "cell_type": "code",
   "execution_count": 23,
   "id": "1357da49-5e99-463d-a7c8-7790b0433481",
   "metadata": {},
   "outputs": [
    {
     "name": "stdout",
     "output_type": "stream",
     "text": [
      "           546.1931      194.5337       160.084      435.5412      220.8238  \\\n",
      "count  71999.000000  71999.000000  71999.000000  71999.000000  71999.000000   \n",
      "mean     300.331259    294.455437    289.068078    263.390922    307.689304   \n",
      "std      191.472836    178.335205    180.894084    181.188277    192.544141   \n",
      "min        0.000000      0.000000      0.000000      0.000000      0.000000   \n",
      "25%      121.018450    137.408200    126.749450    104.923150    125.933750   \n",
      "50%      316.563000    303.411200    301.648600    244.302900    336.152100   \n",
      "75%      479.759200    447.732650    446.489050    427.197650    484.349750   \n",
      "max      566.000000    566.000000    566.000000    566.000000    566.000000   \n",
      "\n",
      "           449.5166      396.1027      231.7794       69.3599      474.1572  \\\n",
      "count  71999.000000  71999.000000  71999.000000  71999.000000  71999.000000   \n",
      "mean     246.710611    278.578414    286.572733    276.478777    299.829485   \n",
      "std      182.996380    182.148957    169.950718    179.503460    185.270575   \n",
      "min        0.000000      0.000000      0.000000      0.000000      0.000000   \n",
      "25%       75.863550    114.667200    143.875200    122.936800    132.516950   \n",
      "50%      223.478000    264.081200    297.630900    261.175200    314.031600   \n",
      "75%      407.300150    451.788550    420.964250    442.217600    471.066950   \n",
      "max      566.000000    566.000000    566.000000    566.000000    566.000000   \n",
      "\n",
      "       ...    216324.3888    242794.9467    234589.0464    241446.2196  \\\n",
      "count  ...   71999.000000   71999.000000   71999.000000   71999.000000   \n",
      "mean   ...  232384.032157  235201.115988  239331.980809  235166.818700   \n",
      "std    ...   28444.508021   29020.010182   28813.597754   28734.266364   \n",
      "min    ...  129775.910100  138563.996300  126897.265500  133149.911400   \n",
      "25%    ...  211195.652300  213104.070250  217771.899300  213165.867300   \n",
      "50%    ...  233919.772500  236768.550900  245712.105300  237440.955600   \n",
      "75%    ...  259325.849450  265307.623000  265738.647500  264954.456350   \n",
      "max    ...  282143.804400  279824.753000  283548.559400  281457.365400   \n",
      "\n",
      "         266320.5629    188114.6855    170653.5874    195915.6535  \\\n",
      "count   71999.000000   71999.000000   71999.000000   71999.000000   \n",
      "mean   234747.206701  233791.508560  235309.867518  238325.284397   \n",
      "std     28698.333219   28353.824899   28499.047384   28693.896083   \n",
      "min    128318.157900  131102.363200  134838.948900  135212.637500   \n",
      "25%    212845.069300  211829.765600  213769.697250  217257.203450   \n",
      "50%    237238.103100  236435.082900  237550.646600  242743.462400   \n",
      "75%    263739.954800  261343.416800  264541.812850  265748.753650   \n",
      "max    281789.422200  281968.795200  286279.149600  282189.733800   \n",
      "\n",
      "         180922.3979   3648666.894  \n",
      "count   71999.000000  7.199900e+04  \n",
      "mean   236812.339489  3.760137e+06  \n",
      "std     28045.062638  1.121468e+05  \n",
      "min    128026.083200  3.235131e+06  \n",
      "25%    216086.683250  3.685864e+06  \n",
      "50%    240613.970700  3.755821e+06  \n",
      "75%    265161.691500  3.830820e+06  \n",
      "max    283875.584200  4.241838e+06  \n",
      "\n",
      "[8 rows x 49 columns]\n"
     ]
    }
   ],
   "source": [
    "print(dataset.describe())\n"
   ]
  },
  {
   "cell_type": "code",
   "execution_count": 24,
   "id": "aae5a396-b7f8-40c2-a0a4-802e97f26d8f",
   "metadata": {},
   "outputs": [
    {
     "name": "stdout",
     "output_type": "stream",
     "text": [
      "546.1931      -0.101415\n",
      "194.5337      -0.084968\n",
      "160.084       -0.103829\n",
      "435.5412       0.138055\n",
      "220.8238      -0.217599\n",
      "449.5166       0.247544\n",
      "396.1027       0.051806\n",
      "231.7794      -0.067794\n",
      "69.3599        0.109143\n",
      "474.1572      -0.127239\n",
      "425.9927       0.226360\n",
      "70.6386        0.099582\n",
      "86.3238       -0.046635\n",
      "389.8815       0.041737\n",
      "392.0722       0.011310\n",
      "305.1023      -0.145403\n",
      "475.0777       0.121444\n",
      "35.6347       -0.253238\n",
      "411.0289       0.257885\n",
      "295.9823      -0.134493\n",
      "389.9392       0.108843\n",
      "2.4583         0.087373\n",
      "485.7922       0.025809\n",
      "308.767        0.160601\n",
      "435.6726      -0.023151\n",
      "256.3944      -0.246679\n",
      "428.1512      -0.056357\n",
      "530.1425       0.080687\n",
      "103.656        0.152964\n",
      "266.4286       0.044720\n",
      "369.1226      -0.169541\n",
      "163.4336      -0.007079\n",
      "265276.7392   -0.482315\n",
      "175454.6032   -0.672746\n",
      "273817.7217   -0.212742\n",
      "224009.1358   -0.456226\n",
      "268313.1334   -0.532426\n",
      "235272.1606   -0.167021\n",
      "269441.9114   -0.345593\n",
      "216324.3888   -0.362856\n",
      "242794.9467   -0.436603\n",
      "234589.0464   -0.694568\n",
      "241446.2196   -0.449367\n",
      "266320.5629   -0.440751\n",
      "188114.6855   -0.421752\n",
      "170653.5874   -0.444014\n",
      "195915.6535   -0.614368\n",
      "180922.3979   -0.562147\n",
      "3648666.894    0.143847\n",
      "dtype: float64\n"
     ]
    }
   ],
   "source": [
    "print(dataset.skew())\n"
   ]
  },
  {
   "cell_type": "code",
   "execution_count": 29,
   "id": "d7c2b05a-0e30-429c-8ff3-271740e2016e",
   "metadata": {},
   "outputs": [
    {
     "data": {
      "image/png": "[encoded data removed]",
      "text/plain": [
       "<Figure size 1200x600 with 1 Axes>"
      ]
     },
     "metadata": {},
     "output_type": "display_data"
    }
   ],
   "source": [
    "import seaborn as sns  \n",
    "import matplotlib.pyplot as plt  \n",
    "\n",
    "plt.figure(figsize=(12, 6))  \n",
    "sns.boxplot(data=dataset)  \n",
    "plt.xticks(rotation=90)  \n",
    "plt.show()\n"
   ]
  },
  {
   "cell_type": "code",
   "execution_count": 26,
   "id": "52c950e2-536d-4ac0-a1ff-d09cdc71b513",
   "metadata": {},
   "outputs": [
    {
     "name": "stdout",
     "output_type": "stream",
     "text": [
      "           546.1931      194.5337       160.084      435.5412      220.8238  \\\n",
      "count  71999.000000  71999.000000  71999.000000  71999.000000  71999.000000   \n",
      "mean     300.331259    294.455437    289.068078    263.390922    307.689304   \n",
      "std      191.472836    178.335205    180.894084    181.188277    192.544141   \n",
      "min        0.000000      0.000000      0.000000      0.000000      0.000000   \n",
      "25%      121.018450    137.408200    126.749450    104.923150    125.933750   \n",
      "50%      316.563000    303.411200    301.648600    244.302900    336.152100   \n",
      "75%      479.759200    447.732650    446.489050    427.197650    484.349750   \n",
      "max      566.000000    566.000000    566.000000    566.000000    566.000000   \n",
      "\n",
      "           449.5166      396.1027      231.7794       69.3599      474.1572  \\\n",
      "count  71999.000000  71999.000000  71999.000000  71999.000000  71999.000000   \n",
      "mean     246.710611    278.578414    286.572733    276.478777    299.829485   \n",
      "std      182.996380    182.148957    169.950718    179.503460    185.270575   \n",
      "min        0.000000      0.000000      0.000000      0.000000      0.000000   \n",
      "25%       75.863550    114.667200    143.875200    122.936800    132.516950   \n",
      "50%      223.478000    264.081200    297.630900    261.175200    314.031600   \n",
      "75%      407.300150    451.788550    420.964250    442.217600    471.066950   \n",
      "max      566.000000    566.000000    566.000000    566.000000    566.000000   \n",
      "\n",
      "       ...    216324.3888    242794.9467    234589.0464    241446.2196  \\\n",
      "count  ...   71999.000000   71999.000000   71999.000000   71999.000000   \n",
      "mean   ...  232384.032157  235201.115988  239331.980809  235166.818700   \n",
      "std    ...   28444.508021   29020.010182   28813.597754   28734.266364   \n",
      "min    ...  129775.910100  138563.996300  126897.265500  133149.911400   \n",
      "25%    ...  211195.652300  213104.070250  217771.899300  213165.867300   \n",
      "50%    ...  233919.772500  236768.550900  245712.105300  237440.955600   \n",
      "75%    ...  259325.849450  265307.623000  265738.647500  264954.456350   \n",
      "max    ...  282143.804400  279824.753000  283548.559400  281457.365400   \n",
      "\n",
      "         266320.5629    188114.6855    170653.5874    195915.6535  \\\n",
      "count   71999.000000   71999.000000   71999.000000   71999.000000   \n",
      "mean   234747.206701  233791.508560  235309.867518  238325.284397   \n",
      "std     28698.333219   28353.824899   28499.047384   28693.896083   \n",
      "min    128318.157900  131102.363200  134838.948900  135212.637500   \n",
      "25%    212845.069300  211829.765600  213769.697250  217257.203450   \n",
      "50%    237238.103100  236435.082900  237550.646600  242743.462400   \n",
      "75%    263739.954800  261343.416800  264541.812850  265748.753650   \n",
      "max    281789.422200  281968.795200  286279.149600  282189.733800   \n",
      "\n",
      "         180922.3979   3648666.894  \n",
      "count   71999.000000  7.199900e+04  \n",
      "mean   236812.339489  3.760137e+06  \n",
      "std     28045.062638  1.121468e+05  \n",
      "min    128026.083200  3.235131e+06  \n",
      "25%    216086.683250  3.685864e+06  \n",
      "50%    240613.970700  3.755821e+06  \n",
      "75%    265161.691500  3.830820e+06  \n",
      "max    283875.584200  4.241838e+06  \n",
      "\n",
      "[8 rows x 49 columns]\n"
     ]
    }
   ],
   "source": [
    "print(dataset.describe())"
   ]
  },
  {
   "cell_type": "code",
   "execution_count": 30,
   "id": "cb9ac160-3499-411f-9926-546c8edacf70",
   "metadata": {},
   "outputs": [
    {
     "name": "stdout",
     "output_type": "stream",
     "text": [
      "Dataset Shape: (71999, 49)\n"
     ]
    }
   ],
   "source": [
    "print(\"Dataset Shape:\", dataset.shape)"
   ]
  },
  {
   "cell_type": "code",
   "execution_count": 32,
   "id": "ca2702e0-7a75-4f2c-b904-d2f48611e714",
   "metadata": {},
   "outputs": [
    {
     "name": "stdout",
     "output_type": "stream",
     "text": [
      "Shape before outlier removal: (71999, 49)\n"
     ]
    }
   ],
   "source": [
    "print(\"Shape before outlier removal:\", dataset.shape)\n"
   ]
  },
  {
   "cell_type": "code",
   "execution_count": 34,
   "id": "f983ef87-bad2-49be-905c-d7cc22e63ede",
   "metadata": {},
   "outputs": [
    {
     "name": "stdout",
     "output_type": "stream",
     "text": [
      "Shape after outlier removal: (71072, 49)\n"
     ]
    }
   ],
   "source": [
    "import numpy as np\n",
    "\n",
    "Q1 = dataset.quantile(0.25)\n",
    "Q3 = dataset.quantile(0.75)\n",
    "IQR = Q3 - Q1\n",
    "\n",
    "# Define lower and upper bounds\n",
    "lower_bound = Q1 - 1.5 * IQR\n",
    "upper_bound = Q3 + 1.5 * IQR\n",
    "\n",
    "# Filter the dataset\n",
    "dataset_cleaned = dataset[~((dataset< lower_bound) | (dataset> upper_bound)).any(axis=1)]\n",
    "\n",
    "# Print the shape after removal\n",
    "print(\"Shape after outlier removal:\", dataset_cleaned.shape)\n"
   ]
  },
  {
   "cell_type": "code",
   "execution_count": null,
   "id": "e6855189-18a5-4abb-9d1a-e45c98368e17",
   "metadata": {},
   "outputs": [],
   "source": []
  }
 ],
 "metadata": {
  "kernelspec": {
   "display_name": "Python 3 (ipykernel)",
   "language": "python",
   "name": "python3"
  },
  "language_info": {
   "codemirror_mode": {
    "name": "ipython",
    "version": 3
   },
   "file_extension": ".py",
   "mimetype": "text/x-python",
   "name": "python",
   "nbconvert_exporter": "python",
   "pygments_lexer": "ipython3",
   "version": "3.13.2"
  }
 },
 "nbformat": 4,
 "nbformat_minor": 5
}
